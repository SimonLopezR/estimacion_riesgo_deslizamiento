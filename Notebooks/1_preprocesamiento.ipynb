{
 "cells": [
  {
   "cell_type": "code",
   "execution_count": 1,
   "metadata": {},
   "outputs": [],
   "source": [
    "import pandas as pd\n",
    "import os\n",
    "from sklearn.model_selection import train_test_split"
   ]
  },
  {
   "cell_type": "code",
   "execution_count": 2,
   "metadata": {},
   "outputs": [],
   "source": [
    "ruta_archivo = os.path.join('..', 'Data','input')\n",
    "ruta_eventos_si=os.path.join(ruta_archivo, 'Eventos_SI_MM.csv')\n",
    "ruta_eventos_no=os.path.join(ruta_archivo, 'Eventos_NO_MM.csv')"
   ]
  },
  {
   "cell_type": "code",
   "execution_count": 3,
   "metadata": {},
   "outputs": [],
   "source": [
    "e_si = pd.read_csv(ruta_eventos_si)\n",
    "e_no = pd.read_csv(ruta_eventos_no)"
   ]
  },
  {
   "cell_type": "code",
   "execution_count": 4,
   "metadata": {},
   "outputs": [
    {
     "data": {
      "text/html": [
       "<div>\n",
       "<style scoped>\n",
       "    .dataframe tbody tr th:only-of-type {\n",
       "        vertical-align: middle;\n",
       "    }\n",
       "\n",
       "    .dataframe tbody tr th {\n",
       "        vertical-align: top;\n",
       "    }\n",
       "\n",
       "    .dataframe thead th {\n",
       "        text-align: right;\n",
       "    }\n",
       "</style>\n",
       "<table border=\"1\" class=\"dataframe\">\n",
       "  <thead>\n",
       "    <tr style=\"text-align: right;\">\n",
       "      <th></th>\n",
       "      <th>FID</th>\n",
       "      <th>OBJECTID</th>\n",
       "      <th>MM2_DATO_I</th>\n",
       "      <th>MM2_FECHA_</th>\n",
       "      <th>MM2_DIRECC</th>\n",
       "      <th>MM2_BARRIO</th>\n",
       "      <th>MM2_RURAL</th>\n",
       "      <th>MM2_Long</th>\n",
       "      <th>MM2_Lat</th>\n",
       "      <th>MM2_NOMBRE</th>\n",
       "      <th>...</th>\n",
       "      <th>X</th>\n",
       "      <th>Y</th>\n",
       "      <th>P_24H</th>\n",
       "      <th>P_3DIAS</th>\n",
       "      <th>P_7DIAS</th>\n",
       "      <th>P_10DIAS</th>\n",
       "      <th>P15DIAS</th>\n",
       "      <th>P30DIAS</th>\n",
       "      <th>P60DIAS</th>\n",
       "      <th>P90DIAS</th>\n",
       "    </tr>\n",
       "  </thead>\n",
       "  <tbody>\n",
       "    <tr>\n",
       "      <th>0</th>\n",
       "      <td>0</td>\n",
       "      <td>1</td>\n",
       "      <td>MM0055</td>\n",
       "      <td>10/6/2020</td>\n",
       "      <td>Puente Azul</td>\n",
       "      <td>Aguacatal</td>\n",
       "      <td>NaN</td>\n",
       "      <td>-76.566520</td>\n",
       "      <td>3.456090</td>\n",
       "      <td>CALI - BOCATOMA</td>\n",
       "      <td>...</td>\n",
       "      <td>1056592.88</td>\n",
       "      <td>8.731783e+05</td>\n",
       "      <td>5.4</td>\n",
       "      <td>6</td>\n",
       "      <td>62.8</td>\n",
       "      <td>67</td>\n",
       "      <td>68.2</td>\n",
       "      <td>88.4</td>\n",
       "      <td>87.2</td>\n",
       "      <td>110</td>\n",
       "    </tr>\n",
       "    <tr>\n",
       "      <th>1</th>\n",
       "      <td>1</td>\n",
       "      <td>2</td>\n",
       "      <td>MM0060</td>\n",
       "      <td>10/23/2020</td>\n",
       "      <td>C 5C Oeste No 47-12</td>\n",
       "      <td>Siloe</td>\n",
       "      <td>NaN</td>\n",
       "      <td>-76.556192</td>\n",
       "      <td>3.421738</td>\n",
       "      <td>LOS CRISTALES</td>\n",
       "      <td>...</td>\n",
       "      <td>1056527.91</td>\n",
       "      <td>8.708033e+08</td>\n",
       "      <td>0.0</td>\n",
       "      <td>0</td>\n",
       "      <td>52.0</td>\n",
       "      <td>52</td>\n",
       "      <td>64.0</td>\n",
       "      <td>121.0</td>\n",
       "      <td>200.0</td>\n",
       "      <td>227</td>\n",
       "    </tr>\n",
       "    <tr>\n",
       "      <th>2</th>\n",
       "      <td>2</td>\n",
       "      <td>3</td>\n",
       "      <td>MM0061</td>\n",
       "      <td>10/23/2020</td>\n",
       "      <td>C 5A Oeste No 44-42</td>\n",
       "      <td>Siloe</td>\n",
       "      <td>NaN</td>\n",
       "      <td>-76.556109</td>\n",
       "      <td>3.421841</td>\n",
       "      <td>LOS CRISTALES</td>\n",
       "      <td>...</td>\n",
       "      <td>1056527.91</td>\n",
       "      <td>8.708033e+08</td>\n",
       "      <td>0.0</td>\n",
       "      <td>0</td>\n",
       "      <td>52.0</td>\n",
       "      <td>52</td>\n",
       "      <td>64.0</td>\n",
       "      <td>121.0</td>\n",
       "      <td>200.0</td>\n",
       "      <td>227</td>\n",
       "    </tr>\n",
       "    <tr>\n",
       "      <th>3</th>\n",
       "      <td>3</td>\n",
       "      <td>4</td>\n",
       "      <td>MM0063</td>\n",
       "      <td>11/10/2020</td>\n",
       "      <td>Sector Quebrada Filadelfia</td>\n",
       "      <td>Andes Bajo</td>\n",
       "      <td>Los Andes</td>\n",
       "      <td>-76.582461</td>\n",
       "      <td>3.411307</td>\n",
       "      <td>LAS BRISAS</td>\n",
       "      <td>...</td>\n",
       "      <td>1054315.22</td>\n",
       "      <td>8.683459e+08</td>\n",
       "      <td>0.0</td>\n",
       "      <td>1</td>\n",
       "      <td>1.0</td>\n",
       "      <td>2</td>\n",
       "      <td>44.0</td>\n",
       "      <td>133.0</td>\n",
       "      <td>217.0</td>\n",
       "      <td>310</td>\n",
       "    </tr>\n",
       "    <tr>\n",
       "      <th>4</th>\n",
       "      <td>4</td>\n",
       "      <td>5</td>\n",
       "      <td>MM0064</td>\n",
       "      <td>11/10/2020</td>\n",
       "      <td>V�a que de Pichinde conduce a Lomas de la Cajita</td>\n",
       "      <td>Pichinde</td>\n",
       "      <td>Pichinde</td>\n",
       "      <td>-76.613217</td>\n",
       "      <td>3.447359</td>\n",
       "      <td>PICHINDE</td>\n",
       "      <td>...</td>\n",
       "      <td>1051712.16</td>\n",
       "      <td>8.716019e+08</td>\n",
       "      <td>0.0</td>\n",
       "      <td>13</td>\n",
       "      <td>13.0</td>\n",
       "      <td>15</td>\n",
       "      <td>40.0</td>\n",
       "      <td>107.0</td>\n",
       "      <td>208.0</td>\n",
       "      <td>287</td>\n",
       "    </tr>\n",
       "  </tbody>\n",
       "</table>\n",
       "<p>5 rows × 46 columns</p>\n",
       "</div>"
      ],
      "text/plain": [
       "   FID  OBJECTID MM2_DATO_I  MM2_FECHA_  \\\n",
       "0    0         1     MM0055   10/6/2020   \n",
       "1    1         2     MM0060  10/23/2020   \n",
       "2    2         3     MM0061  10/23/2020   \n",
       "3    3         4     MM0063  11/10/2020   \n",
       "4    4         5     MM0064  11/10/2020   \n",
       "\n",
       "                                         MM2_DIRECC  MM2_BARRIO  MM2_RURAL  \\\n",
       "0                                       Puente Azul   Aguacatal        NaN   \n",
       "1                               C 5C Oeste No 47-12       Siloe        NaN   \n",
       "2                               C 5A Oeste No 44-42       Siloe        NaN   \n",
       "3                        Sector Quebrada Filadelfia  Andes Bajo  Los Andes   \n",
       "4  V�a que de Pichinde conduce a Lomas de la Cajita    Pichinde   Pichinde   \n",
       "\n",
       "    MM2_Long   MM2_Lat       MM2_NOMBRE  ...           X             Y  P_24H  \\\n",
       "0 -76.566520  3.456090  CALI - BOCATOMA  ...  1056592.88  8.731783e+05    5.4   \n",
       "1 -76.556192  3.421738    LOS CRISTALES  ...  1056527.91  8.708033e+08    0.0   \n",
       "2 -76.556109  3.421841    LOS CRISTALES  ...  1056527.91  8.708033e+08    0.0   \n",
       "3 -76.582461  3.411307       LAS BRISAS  ...  1054315.22  8.683459e+08    0.0   \n",
       "4 -76.613217  3.447359         PICHINDE  ...  1051712.16  8.716019e+08    0.0   \n",
       "\n",
       "   P_3DIAS  P_7DIAS P_10DIAS P15DIAS  P30DIAS P60DIAS P90DIAS  \n",
       "0        6     62.8       67    68.2     88.4    87.2     110  \n",
       "1        0     52.0       52    64.0    121.0   200.0     227  \n",
       "2        0     52.0       52    64.0    121.0   200.0     227  \n",
       "3        1      1.0        2    44.0    133.0   217.0     310  \n",
       "4       13     13.0       15    40.0    107.0   208.0     287  \n",
       "\n",
       "[5 rows x 46 columns]"
      ]
     },
     "execution_count": 4,
     "metadata": {},
     "output_type": "execute_result"
    }
   ],
   "source": [
    "e_si.head()"
   ]
  },
  {
   "cell_type": "code",
   "execution_count": 5,
   "metadata": {},
   "outputs": [],
   "source": [
    "columnas_si=['Elevacion','Pendiente','categ_Ries','NOM_COB25','GEOLOGIA_2','P_24H','P_7DIAS','P_10DIAS','P15DIAS','P30DIAS','P60DIAS'\n",
    "          ,'P90DIAS']"
   ]
  },
  {
   "cell_type": "code",
   "execution_count": 6,
   "metadata": {},
   "outputs": [],
   "source": [
    "df_e_si=e_si[columnas_si]"
   ]
  },
  {
   "cell_type": "code",
   "execution_count": 7,
   "metadata": {},
   "outputs": [],
   "source": [
    "columnas_no=['Elevacion','Pendiente','categ','NOM_COB25','GEOLOGIA_2','P_24H__mm_','P_7DIAS__m','P_10DIAS__','P15DIAS__m','P30DIAS__m','P60DIAS__m'\n",
    "          ,'P90DIAS__m']"
   ]
  },
  {
   "cell_type": "code",
   "execution_count": 8,
   "metadata": {},
   "outputs": [],
   "source": [
    "df_e_no=e_no[columnas_no]"
   ]
  },
  {
   "cell_type": "code",
   "execution_count": 9,
   "metadata": {},
   "outputs": [
    {
     "name": "stderr",
     "output_type": "stream",
     "text": [
      "/tmp/ipykernel_12240/3723349961.py:1: SettingWithCopyWarning: \n",
      "A value is trying to be set on a copy of a slice from a DataFrame.\n",
      "Try using .loc[row_indexer,col_indexer] = value instead\n",
      "\n",
      "See the caveats in the documentation: https://pandas.pydata.org/pandas-docs/stable/user_guide/indexing.html#returning-a-view-versus-a-copy\n",
      "  df_e_si['deslizamientos'] = 1\n",
      "/tmp/ipykernel_12240/3723349961.py:3: SettingWithCopyWarning: \n",
      "A value is trying to be set on a copy of a slice from a DataFrame.\n",
      "Try using .loc[row_indexer,col_indexer] = value instead\n",
      "\n",
      "See the caveats in the documentation: https://pandas.pydata.org/pandas-docs/stable/user_guide/indexing.html#returning-a-view-versus-a-copy\n",
      "  df_e_no['deslizamientos'] = 0\n"
     ]
    }
   ],
   "source": [
    "df_e_si['deslizamientos'] = 1\n",
    "\n",
    "df_e_no['deslizamientos'] = 0"
   ]
  },
  {
   "cell_type": "code",
   "execution_count": 10,
   "metadata": {},
   "outputs": [
    {
     "name": "stdout",
     "output_type": "stream",
     "text": [
      "<class 'pandas.core.frame.DataFrame'>\n",
      "RangeIndex: 400 entries, 0 to 399\n",
      "Data columns (total 13 columns):\n",
      " #   Column          Non-Null Count  Dtype  \n",
      "---  ------          --------------  -----  \n",
      " 0   Elevacion       400 non-null    float64\n",
      " 1   Pendiente       400 non-null    float64\n",
      " 2   categ           400 non-null    object \n",
      " 3   NOM_COB25       400 non-null    object \n",
      " 4   GEOLOGIA_2      400 non-null    object \n",
      " 5   P_24H__mm_      400 non-null    int64  \n",
      " 6   P_7DIAS__m      400 non-null    float64\n",
      " 7   P_10DIAS__      400 non-null    float64\n",
      " 8   P15DIAS__m      400 non-null    float64\n",
      " 9   P30DIAS__m      400 non-null    float64\n",
      " 10  P60DIAS__m      400 non-null    float64\n",
      " 11  P90DIAS__m      400 non-null    float64\n",
      " 12  deslizamientos  400 non-null    int64  \n",
      "dtypes: float64(8), int64(2), object(3)\n",
      "memory usage: 40.8+ KB\n"
     ]
    }
   ],
   "source": [
    "df_e_no.info()"
   ]
  },
  {
   "cell_type": "code",
   "execution_count": 11,
   "metadata": {},
   "outputs": [
    {
     "name": "stdout",
     "output_type": "stream",
     "text": [
      "<class 'pandas.core.frame.DataFrame'>\n",
      "RangeIndex: 550 entries, 0 to 549\n",
      "Data columns (total 13 columns):\n",
      " #   Column          Non-Null Count  Dtype  \n",
      "---  ------          --------------  -----  \n",
      " 0   Elevacion       550 non-null    float64\n",
      " 1   Pendiente       550 non-null    float64\n",
      " 2   categ_Ries      550 non-null    object \n",
      " 3   NOM_COB25       550 non-null    object \n",
      " 4   GEOLOGIA_2      550 non-null    object \n",
      " 5   P_24H           550 non-null    float64\n",
      " 6   P_7DIAS         550 non-null    float64\n",
      " 7   P_10DIAS        550 non-null    int64  \n",
      " 8   P15DIAS         550 non-null    float64\n",
      " 9   P30DIAS         550 non-null    float64\n",
      " 10  P60DIAS         550 non-null    float64\n",
      " 11  P90DIAS         550 non-null    int64  \n",
      " 12  deslizamientos  550 non-null    int64  \n",
      "dtypes: float64(7), int64(3), object(3)\n",
      "memory usage: 56.0+ KB\n"
     ]
    }
   ],
   "source": [
    "df_e_si.info()"
   ]
  },
  {
   "cell_type": "code",
   "execution_count": 12,
   "metadata": {},
   "outputs": [],
   "source": [
    "df_e_no=df_e_no.rename(columns={\"P_24H__mm_\": \"P_24H\",\n",
    "                                 \"P_7DIAS__m\": \"P_7DIAS\",\n",
    "                                 \"P_10DIAS__\":\"P_10DIAS\",\n",
    "                                 \"P15DIAS__m\": \"P15DIAS\",\n",
    "                                 \"P30DIAS__m\": \"P30DIAS\",\n",
    "                                 \"P60DIAS__m\":\"P60DIAS\",\n",
    "                                 \"P90DIAS__m\":\"P90DIAS\",\n",
    "                                 \"categ\":\"categ_Ries\"})"
   ]
  },
  {
   "cell_type": "code",
   "execution_count": 13,
   "metadata": {},
   "outputs": [
    {
     "name": "stdout",
     "output_type": "stream",
     "text": [
      "Las columnas de ambos DataFrames son iguales.\n"
     ]
    }
   ],
   "source": [
    "# Verifica si las columnas son iguales\n",
    "if list(df_e_si.columns) == list(df_e_no.columns):\n",
    "    print(\"Las columnas de ambos DataFrames son iguales.\")\n",
    "else:\n",
    "    print(\"Las columnas de ambos DataFrames son diferentes.\")"
   ]
  },
  {
   "cell_type": "code",
   "execution_count": 14,
   "metadata": {},
   "outputs": [],
   "source": [
    "df_new = pd.concat([df_e_si, df_e_no], axis=0)\n",
    "df_new=df_new.reset_index(drop=True)"
   ]
  },
  {
   "cell_type": "code",
   "execution_count": 15,
   "metadata": {},
   "outputs": [],
   "source": [
    "df_new=df_new.rename(columns={\"categ_Ries\": \"zonificacion\"})"
   ]
  },
  {
   "cell_type": "code",
   "execution_count": 16,
   "metadata": {},
   "outputs": [
    {
     "data": {
      "text/html": [
       "<div>\n",
       "<style scoped>\n",
       "    .dataframe tbody tr th:only-of-type {\n",
       "        vertical-align: middle;\n",
       "    }\n",
       "\n",
       "    .dataframe tbody tr th {\n",
       "        vertical-align: top;\n",
       "    }\n",
       "\n",
       "    .dataframe thead th {\n",
       "        text-align: right;\n",
       "    }\n",
       "</style>\n",
       "<table border=\"1\" class=\"dataframe\">\n",
       "  <thead>\n",
       "    <tr style=\"text-align: right;\">\n",
       "      <th></th>\n",
       "      <th>Elevacion</th>\n",
       "      <th>Pendiente</th>\n",
       "      <th>zonificacion</th>\n",
       "      <th>NOM_COB25</th>\n",
       "      <th>GEOLOGIA_2</th>\n",
       "      <th>P_24H</th>\n",
       "      <th>P_7DIAS</th>\n",
       "      <th>P_10DIAS</th>\n",
       "      <th>P15DIAS</th>\n",
       "      <th>P30DIAS</th>\n",
       "      <th>P60DIAS</th>\n",
       "      <th>P90DIAS</th>\n",
       "      <th>deslizamientos</th>\n",
       "    </tr>\n",
       "  </thead>\n",
       "  <tbody>\n",
       "    <tr>\n",
       "      <th>0</th>\n",
       "      <td>1071.533325</td>\n",
       "      <td>18.854424</td>\n",
       "      <td>Riesgo bajo</td>\n",
       "      <td>Zonas urbanas continuas</td>\n",
       "      <td>Formacion Volcanica</td>\n",
       "      <td>5.4</td>\n",
       "      <td>62.8</td>\n",
       "      <td>67.0</td>\n",
       "      <td>68.2</td>\n",
       "      <td>88.4</td>\n",
       "      <td>87.2</td>\n",
       "      <td>110.0</td>\n",
       "      <td>1</td>\n",
       "    </tr>\n",
       "    <tr>\n",
       "      <th>1</th>\n",
       "      <td>1066.793579</td>\n",
       "      <td>54.227337</td>\n",
       "      <td>Riesgo alto</td>\n",
       "      <td>Zonas urbanas continuas</td>\n",
       "      <td>Formacion Volcanica</td>\n",
       "      <td>0.0</td>\n",
       "      <td>52.0</td>\n",
       "      <td>52.0</td>\n",
       "      <td>64.0</td>\n",
       "      <td>121.0</td>\n",
       "      <td>200.0</td>\n",
       "      <td>227.0</td>\n",
       "      <td>1</td>\n",
       "    </tr>\n",
       "    <tr>\n",
       "      <th>2</th>\n",
       "      <td>1064.982910</td>\n",
       "      <td>55.214653</td>\n",
       "      <td>Riesgo alto</td>\n",
       "      <td>Zonas urbanas continuas</td>\n",
       "      <td>Formacion Volcanica</td>\n",
       "      <td>0.0</td>\n",
       "      <td>52.0</td>\n",
       "      <td>52.0</td>\n",
       "      <td>64.0</td>\n",
       "      <td>121.0</td>\n",
       "      <td>200.0</td>\n",
       "      <td>227.0</td>\n",
       "      <td>1</td>\n",
       "    </tr>\n",
       "    <tr>\n",
       "      <th>3</th>\n",
       "      <td>1098.431641</td>\n",
       "      <td>55.259258</td>\n",
       "      <td>Riesgo bajo</td>\n",
       "      <td>Pasto cultivado</td>\n",
       "      <td>Lateritas Formacion Volcanica</td>\n",
       "      <td>0.0</td>\n",
       "      <td>1.0</td>\n",
       "      <td>2.0</td>\n",
       "      <td>44.0</td>\n",
       "      <td>133.0</td>\n",
       "      <td>217.0</td>\n",
       "      <td>310.0</td>\n",
       "      <td>1</td>\n",
       "    </tr>\n",
       "    <tr>\n",
       "      <th>4</th>\n",
       "      <td>1618.704102</td>\n",
       "      <td>91.374733</td>\n",
       "      <td>Amenaza alta</td>\n",
       "      <td>Bosque mixto abierto alto de tierra firme</td>\n",
       "      <td>Formacion Volcanica</td>\n",
       "      <td>0.0</td>\n",
       "      <td>13.0</td>\n",
       "      <td>15.0</td>\n",
       "      <td>40.0</td>\n",
       "      <td>107.0</td>\n",
       "      <td>208.0</td>\n",
       "      <td>287.0</td>\n",
       "      <td>1</td>\n",
       "    </tr>\n",
       "  </tbody>\n",
       "</table>\n",
       "</div>"
      ],
      "text/plain": [
       "     Elevacion  Pendiente  zonificacion  \\\n",
       "0  1071.533325  18.854424   Riesgo bajo   \n",
       "1  1066.793579  54.227337   Riesgo alto   \n",
       "2  1064.982910  55.214653   Riesgo alto   \n",
       "3  1098.431641  55.259258   Riesgo bajo   \n",
       "4  1618.704102  91.374733  Amenaza alta   \n",
       "\n",
       "                                   NOM_COB25                     GEOLOGIA_2  \\\n",
       "0                    Zonas urbanas continuas            Formacion Volcanica   \n",
       "1                    Zonas urbanas continuas            Formacion Volcanica   \n",
       "2                    Zonas urbanas continuas            Formacion Volcanica   \n",
       "3                            Pasto cultivado  Lateritas Formacion Volcanica   \n",
       "4  Bosque mixto abierto alto de tierra firme            Formacion Volcanica   \n",
       "\n",
       "   P_24H  P_7DIAS  P_10DIAS  P15DIAS  P30DIAS  P60DIAS  P90DIAS  \\\n",
       "0    5.4     62.8      67.0     68.2     88.4     87.2    110.0   \n",
       "1    0.0     52.0      52.0     64.0    121.0    200.0    227.0   \n",
       "2    0.0     52.0      52.0     64.0    121.0    200.0    227.0   \n",
       "3    0.0      1.0       2.0     44.0    133.0    217.0    310.0   \n",
       "4    0.0     13.0      15.0     40.0    107.0    208.0    287.0   \n",
       "\n",
       "   deslizamientos  \n",
       "0               1  \n",
       "1               1  \n",
       "2               1  \n",
       "3               1  \n",
       "4               1  "
      ]
     },
     "execution_count": 16,
     "metadata": {},
     "output_type": "execute_result"
    }
   ],
   "source": [
    "df_new.head()"
   ]
  },
  {
   "cell_type": "code",
   "execution_count": 17,
   "metadata": {},
   "outputs": [],
   "source": [
    "df_new=df_new.rename(columns={'Elevacion':'ELEVACION', 'Pendiente':'PENDIENT', 'P_24H':'24h','P_7DIAS':'7d', 'P_10DIAS' : '10d',\n",
    "                        'P15DIAS': '15d','P30DIAS' : '30d', 'P60DIAS' : '60d', 'P90DIAS' : '90d','NOM_COB25':'Nomenclatura_del_Suelo','GEOLOGIA_2':'tipo_geologia'})"
   ]
  },
  {
   "cell_type": "code",
   "execution_count": 18,
   "metadata": {},
   "outputs": [],
   "source": [
    "df_new=df_new.sample(frac=1,replace=False)"
   ]
  },
  {
   "cell_type": "code",
   "execution_count": 19,
   "metadata": {},
   "outputs": [],
   "source": [
    "ruta_output=os.path.join('..', 'Data','output','train_data_1.csv')\n",
    "\n",
    "\n",
    "df_new.to_csv(ruta_output, index=False)"
   ]
  },
  {
   "cell_type": "code",
   "execution_count": 20,
   "metadata": {},
   "outputs": [],
   "source": [
    "# independent_var_erase=['10d'] # Eliminamos la variable de precipitacion acumulada a los 10 dias\n",
    "# dependent_var='deslizamientos'\n",
    "# independent_var=[x for x in df_new.columns if x not in independent_var_erase and x not in dependent_var]"
   ]
  },
  {
   "cell_type": "code",
   "execution_count": 21,
   "metadata": {},
   "outputs": [
    {
     "name": "stdout",
     "output_type": "stream",
     "text": [
      "Variables categoricas:  ['zonificacion', 'Nomenclatura_del_Suelo', 'tipo_geologia']\n",
      "Variables numericas:  ['ELEVACION', 'PENDIENT', '24h', '7d', '15d', '30d', '60d', '90d']\n",
      "Variables independientes:  ['zonificacion', 'Nomenclatura_del_Suelo', 'tipo_geologia', 'ELEVACION', 'PENDIENT', '24h', '7d', '15d', '30d', '60d', '90d']\n"
     ]
    }
   ],
   "source": [
    "# X=df_new[independent_var]\n",
    "# y=df_new[dependent_var]\n",
    "\n",
    "# # Seleccionar columnas categoricas\n",
    "# VAR_categorical_cols = [cname for cname in X.columns if X[cname].dtype == \"object\"]\n",
    "\n",
    "# # Seleccionar columnas numericas\n",
    "# VAR_numerical_cols = [cname for cname in X.columns if X[cname].dtype in ['int64', 'float64']]\n",
    "\n",
    "# # Total de columnas\n",
    "# VAR_cols = VAR_categorical_cols + VAR_numerical_cols\n",
    "\n",
    "# print('Variables categoricas: ',VAR_categorical_cols)\n",
    "# print('Variables numericas: ',VAR_numerical_cols)\n",
    "# print('Variables independientes: ',VAR_cols)"
   ]
  },
  {
   "cell_type": "code",
   "execution_count": 22,
   "metadata": {},
   "outputs": [],
   "source": [
    "# X_train, X_valid, y_train, y_valid = train_test_split(X, y, train_size=0.8, test_size=0.2)"
   ]
  },
  {
   "cell_type": "code",
   "execution_count": 23,
   "metadata": {},
   "outputs": [],
   "source": [
    "# ruta_output_X_train=os.path.join('..', 'Data','output','X_train.csv')\n",
    "# ruta_output_y_train=os.path.join('..', 'Data','output','y_train.csv')\n",
    "# ruta_output_X_valid=os.path.join('..', 'Data','output','X_valid.csv')\n",
    "# ruta_output_y_validn=os.path.join('..', 'Data','output','y_valid.csv')\n",
    "\n",
    "\n",
    "# X_train.to_csv(ruta_output_X_train, index=False)\n",
    "# y_train.to_csv(ruta_output_y_train, index=False)\n",
    "# X_valid.to_csv(ruta_output_X_valid, index=False)\n",
    "# y_valid.to_csv(ruta_output_y_validn, index=False)"
   ]
  }
 ],
 "metadata": {
  "kernelspec": {
   "display_name": "Python 3",
   "language": "python",
   "name": "python3"
  },
  "language_info": {
   "codemirror_mode": {
    "name": "ipython",
    "version": 3
   },
   "file_extension": ".py",
   "mimetype": "text/x-python",
   "name": "python",
   "nbconvert_exporter": "python",
   "pygments_lexer": "ipython3",
   "version": "3.12.3"
  }
 },
 "nbformat": 4,
 "nbformat_minor": 2
}
